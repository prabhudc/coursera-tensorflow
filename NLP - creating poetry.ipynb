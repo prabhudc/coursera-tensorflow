{
 "cells": [
  {
   "cell_type": "markdown",
   "metadata": {},
   "source": [
    "# NPL - Text prediction"
   ]
  },
  {
   "cell_type": "code",
   "execution_count": 1,
   "metadata": {},
   "outputs": [],
   "source": [
    "import tensorflow as tf\n",
    "\n",
    "from tensorflow.keras.preprocessing.sequence import pad_sequences\n",
    "from tensorflow.keras.layers import Embedding, LSTM, Dense, Bidirectional\n",
    "from tensorflow.keras.preprocessing.text import Tokenizer\n",
    "from tensorflow.keras.models import Sequential\n",
    "from tensorflow.keras.optimizers import Adam\n",
    "import numpy as np "
   ]
  },
  {
   "cell_type": "code",
   "execution_count": 5,
   "metadata": {},
   "outputs": [],
   "source": [
    "# Set the data\n",
    "# data=\"In the town of Athy one Jeremy Lanigan \\n Battered away til he hadnt a pound. \\nHis father died and made him a man again \\n Left him a farm and ten acres of ground. \\nHe gave a grand party for friends and relations \\nWho didnt forget him when come to the wall, \\nAnd if youll but listen Ill make your eyes glisten \\nOf the rows and the ructions of Lanigans Ball. \\nMyself to be sure got free invitation, \\nFor all the nice girls and boys I might ask, \\nAnd just in a minute both friends and relations \\nWere dancing round merry as bees round a cask. \\nJudy ODaly, that nice little milliner, \\nShe tipped me a wink for to give her a call, \\nAnd I soon arrived with Peggy McGilligan \\nJust in time for Lanigans Ball. \\nThere were lashings of punch and wine for the ladies, \\nPotatoes and cakes; there was bacon and tea, \\nThere were the Nolans, Dolans, OGradys \\nCourting the girls and dancing away. \\nSongs they went round as plenty as water, \\nThe harp that once sounded in Taras old hall,\\nSweet Nelly Gray and The Rat Catchers Daughter,\\nAll singing together at Lanigans Ball. \\nThey were doing all kinds of nonsensical polkas \\nAll round the room in a whirligig. \\nJulia and I, we banished their nonsense \\nAnd tipped them the twist of a reel and a jig. \\nAch mavrone, how the girls got all mad at me \\nDanced til youd think the ceiling would fall. \\nFor I spent three weeks at Brooks Academy \\nLearning new steps for Lanigans Ball. \\nThree long weeks I spent up in Dublin, \\nThree long weeks to learn nothing at all,\\n Three long weeks I spent up in Dublin, \\nLearning new steps for Lanigans Ball. \\nShe stepped out and I stepped in again, \\nI stepped out and she stepped in again, \\nShe stepped out and I stepped in again, \\nLearning new steps for Lanigans Ball. \\nBoys were all merry and the girls they were hearty \\nAnd danced all around in couples and groups, \\nTil an accident happened, young Terrance McCarthy \\nPut his right leg through miss Finnertys hoops. \\nPoor creature fainted and cried Meelia murther, \\nCalled for her brothers and gathered them all. \\nCarmody swore that hed go no further \\nTil he had satisfaction at Lanigans Ball. \\nIn the midst of the row miss Kerrigan fainted, \\nHer cheeks at the same time as red as a rose. \\nSome of the lads declared she was painted, \\nShe took a small drop too much, I suppose. \\nHer sweetheart, Ned Morgan, so powerful and able, \\nWhen he saw his fair colleen stretched out by the wall, \\nTore the left leg from under the table \\nAnd smashed all the Chaneys at Lanigans Ball. \\nBoys, oh boys, twas then there were runctions. \\nMyself got a lick from big Phelim McHugh. \\nI soon replied to his introduction \\nAnd kicked up a terrible hullabaloo. \\nOld Casey, the piper, was near being strangled. \\nThey squeezed up his pipes, bellows, chanters and all. \\nThe girls, in their ribbons, they got all entangled \\nAnd that put an end to Lanigans Ball.\"\n",
    "data = open(\"../files/irish-lyrics-eof.txt\").read()\n"
   ]
  },
  {
   "cell_type": "code",
   "execution_count": 6,
   "metadata": {},
   "outputs": [
    {
     "name": "stdout",
     "output_type": "stream",
     "text": [
      "2690\n"
     ]
    }
   ],
   "source": [
    "tokenizer = Tokenizer()\n",
    "corpus = data.lower().split('\\n')\n",
    "\n",
    "\n",
    "tokenizer.fit_on_texts(corpus)\n",
    "total_words = len(tokenizer.word_index) + 1\n",
    "\n",
    "print(total_words)\n",
    "# print(tokenizer.word_index)"
   ]
  },
  {
   "cell_type": "code",
   "execution_count": 7,
   "metadata": {},
   "outputs": [],
   "source": [
    "input_sequences = []\n",
    "for line in corpus:\n",
    "    token_list = tokenizer.texts_to_sequences([line])[0]\n",
    "    for i in range(1, len(token_list)):\n",
    "        input_sequences.append(token_list[:i+1])\n",
    "        \n",
    "# Pad sequence\n",
    "max_sequence_len = max([len(x) for x in input_sequences])\n",
    "input_sequences = np.array(pad_sequences(input_sequences, padding='pre', maxlen=max_sequence_len))"
   ]
  },
  {
   "cell_type": "code",
   "execution_count": 8,
   "metadata": {},
   "outputs": [],
   "source": [
    "xs, labels = input_sequences[:,:-1],input_sequences[:,-1]\n",
    "ys = tf.keras.utils.to_categorical(labels,num_classes=total_words)"
   ]
  },
  {
   "cell_type": "code",
   "execution_count": 10,
   "metadata": {},
   "outputs": [
    {
     "name": "stdout",
     "output_type": "stream",
     "text": [
      "51\n",
      "12\n",
      "96\n"
     ]
    }
   ],
   "source": [
    "print(tokenizer.word_index['come'])\n",
    "print(tokenizer.word_index['all'])\n",
    "print(tokenizer.word_index['ye'])"
   ]
  },
  {
   "cell_type": "code",
   "execution_count": 11,
   "metadata": {},
   "outputs": [
    {
     "name": "stdout",
     "output_type": "stream",
     "text": [
      "[   0    0    0    0    0    0    0    0    0    0   51   12   96 1217\n",
      "   48]\n"
     ]
    }
   ],
   "source": [
    "print(xs[4])"
   ]
  },
  {
   "cell_type": "code",
   "execution_count": 12,
   "metadata": {},
   "outputs": [
    {
     "name": "stdout",
     "output_type": "stream",
     "text": [
      "Model: \"sequential\"\n",
      "_________________________________________________________________\n",
      "Layer (type)                 Output Shape              Param #   \n",
      "=================================================================\n",
      "embedding (Embedding)        (None, 15, 100)           269000    \n",
      "_________________________________________________________________\n",
      "bidirectional (Bidirectional (None, 256)               234496    \n",
      "_________________________________________________________________\n",
      "dense (Dense)                (None, 2690)              691330    \n",
      "=================================================================\n",
      "Total params: 1,194,826\n",
      "Trainable params: 1,194,826\n",
      "Non-trainable params: 0\n",
      "_________________________________________________________________\n"
     ]
    }
   ],
   "source": [
    "model = tf.keras.models.Sequential([\n",
    "    tf.keras.layers.Embedding(total_words, 100, input_length=max_sequence_len-1),\n",
    "    tf.keras.layers.Bidirectional(LSTM(128)),\n",
    "    tf.keras.layers.Dense(total_words, activation='softmax')    \n",
    "])\n",
    "\n",
    "model.compile(loss='categorical_crossentropy',optimizer='adam',metrics=['accuracy'])\n",
    "model.summary()"
   ]
  },
  {
   "cell_type": "code",
   "execution_count": 13,
   "metadata": {},
   "outputs": [
    {
     "name": "stdout",
     "output_type": "stream",
     "text": [
      "Epoch 1/100\n",
      "377/377 [==============================] - 13s 35ms/step - loss: 6.7541 - accuracy: 0.0650\n",
      "Epoch 2/100\n",
      "377/377 [==============================] - 13s 34ms/step - loss: 6.2546 - accuracy: 0.0754\n",
      "Epoch 3/100\n",
      "377/377 [==============================] - 14s 38ms/step - loss: 5.9956 - accuracy: 0.0832\n",
      "Epoch 4/100\n",
      "377/377 [==============================] - 13s 36ms/step - loss: 5.7198 - accuracy: 0.0957\n",
      "Epoch 5/100\n",
      "377/377 [==============================] - 14s 36ms/step - loss: 5.4288 - accuracy: 0.1150\n",
      "Epoch 6/100\n",
      "377/377 [==============================] - 13s 36ms/step - loss: 5.1184 - accuracy: 0.1293\n",
      "Epoch 7/100\n",
      "377/377 [==============================] - 13s 34ms/step - loss: 4.8112 - accuracy: 0.1440\n",
      "Epoch 8/100\n",
      "377/377 [==============================] - 14s 37ms/step - loss: 4.4984 - accuracy: 0.1636\n",
      "Epoch 9/100\n",
      "377/377 [==============================] - 12s 33ms/step - loss: 4.1930 - accuracy: 0.1879\n",
      "Epoch 10/100\n",
      "377/377 [==============================] - 14s 38ms/step - loss: 3.8978 - accuracy: 0.2171\n",
      "Epoch 11/100\n",
      "377/377 [==============================] - 14s 38ms/step - loss: 3.6240 - accuracy: 0.2535\n",
      "Epoch 12/100\n",
      "377/377 [==============================] - 15s 39ms/step - loss: 3.3509 - accuracy: 0.2976\n",
      "Epoch 13/100\n",
      "377/377 [==============================] - 14s 37ms/step - loss: 3.0895 - accuracy: 0.3466\n",
      "Epoch 14/100\n",
      "377/377 [==============================] - 12s 32ms/step - loss: 2.8587 - accuracy: 0.3926\n",
      "Epoch 15/100\n",
      "377/377 [==============================] - 14s 37ms/step - loss: 2.6334 - accuracy: 0.4318\n",
      "Epoch 16/100\n",
      "377/377 [==============================] - 12s 31ms/step - loss: 2.4273 - accuracy: 0.4807\n",
      "Epoch 17/100\n",
      "377/377 [==============================] - 11s 28ms/step - loss: 2.2490 - accuracy: 0.5144\n",
      "Epoch 18/100\n",
      "377/377 [==============================] - 9s 24ms/step - loss: 2.0786 - accuracy: 0.5517\n",
      "Epoch 19/100\n",
      "377/377 [==============================] - 10s 26ms/step - loss: 1.9375 - accuracy: 0.5824\n",
      "Epoch 20/100\n",
      "377/377 [==============================] - 10s 26ms/step - loss: 1.7866 - accuracy: 0.6140\n",
      "Epoch 21/100\n",
      "377/377 [==============================] - 11s 29ms/step - loss: 1.6673 - accuracy: 0.6434\n",
      "Epoch 22/100\n",
      "377/377 [==============================] - 11s 30ms/step - loss: 1.5495 - accuracy: 0.6695\n",
      "Epoch 23/100\n",
      "377/377 [==============================] - 12s 31ms/step - loss: 1.4404 - accuracy: 0.6929\n",
      "Epoch 24/100\n",
      "377/377 [==============================] - 11s 29ms/step - loss: 1.3474 - accuracy: 0.7096\n",
      "Epoch 25/100\n",
      "377/377 [==============================] - 13s 35ms/step - loss: 1.2615 - accuracy: 0.7324\n",
      "Epoch 26/100\n",
      "377/377 [==============================] - 14s 37ms/step - loss: 1.1817 - accuracy: 0.7498\n",
      "Epoch 27/100\n",
      "377/377 [==============================] - 11s 28ms/step - loss: 1.1082 - accuracy: 0.7666\n",
      "Epoch 28/100\n",
      "377/377 [==============================] - 12s 31ms/step - loss: 1.0478 - accuracy: 0.7762\n",
      "Epoch 29/100\n",
      "377/377 [==============================] - 12s 31ms/step - loss: 0.9915 - accuracy: 0.7884\n",
      "Epoch 30/100\n",
      "377/377 [==============================] - 12s 32ms/step - loss: 0.9345 - accuracy: 0.8006\n",
      "Epoch 31/100\n",
      "377/377 [==============================] - 10s 27ms/step - loss: 0.8925 - accuracy: 0.8077\n",
      "Epoch 32/100\n",
      "377/377 [==============================] - 10s 28ms/step - loss: 0.8463 - accuracy: 0.8191\n",
      "Epoch 33/100\n",
      "377/377 [==============================] - 12s 31ms/step - loss: 0.8116 - accuracy: 0.8233\n",
      "Epoch 34/100\n",
      "377/377 [==============================] - 12s 31ms/step - loss: 0.7699 - accuracy: 0.8280\n",
      "Epoch 35/100\n",
      "377/377 [==============================] - 11s 29ms/step - loss: 0.7446 - accuracy: 0.8333\n",
      "Epoch 36/100\n",
      "377/377 [==============================] - 11s 30ms/step - loss: 0.7195 - accuracy: 0.8373\n",
      "Epoch 37/100\n",
      "377/377 [==============================] - 10s 25ms/step - loss: 0.6966 - accuracy: 0.8409\n",
      "Epoch 38/100\n",
      "377/377 [==============================] - 12s 32ms/step - loss: 0.6822 - accuracy: 0.8398\n",
      "Epoch 39/100\n",
      "377/377 [==============================] - 10s 27ms/step - loss: 0.6582 - accuracy: 0.8427\n",
      "Epoch 40/100\n",
      "377/377 [==============================] - 12s 32ms/step - loss: 0.6439 - accuracy: 0.8438\n",
      "Epoch 41/100\n",
      "377/377 [==============================] - 11s 30ms/step - loss: 0.6319 - accuracy: 0.8444\n",
      "Epoch 42/100\n",
      "377/377 [==============================] - 10s 28ms/step - loss: 0.6158 - accuracy: 0.8486\n",
      "Epoch 43/100\n",
      "377/377 [==============================] - 12s 32ms/step - loss: 0.6138 - accuracy: 0.8475\n",
      "Epoch 44/100\n",
      "377/377 [==============================] - 11s 29ms/step - loss: 0.6007 - accuracy: 0.8481\n",
      "Epoch 45/100\n",
      "377/377 [==============================] - 10s 27ms/step - loss: 0.5958 - accuracy: 0.8494\n",
      "Epoch 46/100\n",
      "377/377 [==============================] - 11s 28ms/step - loss: 0.5858 - accuracy: 0.8480\n",
      "Epoch 47/100\n",
      "377/377 [==============================] - 11s 28ms/step - loss: 0.5812 - accuracy: 0.8481\n",
      "Epoch 48/100\n",
      "377/377 [==============================] - 10s 27ms/step - loss: 0.5668 - accuracy: 0.8502\n",
      "Epoch 49/100\n",
      "377/377 [==============================] - 12s 32ms/step - loss: 0.5587 - accuracy: 0.8504\n",
      "Epoch 50/100\n",
      "377/377 [==============================] - 12s 31ms/step - loss: 0.5636 - accuracy: 0.8489\n",
      "Epoch 51/100\n",
      "377/377 [==============================] - 10s 26ms/step - loss: 0.5516 - accuracy: 0.8506\n",
      "Epoch 52/100\n",
      "377/377 [==============================] - 11s 28ms/step - loss: 0.5436 - accuracy: 0.8509\n",
      "Epoch 53/100\n",
      "377/377 [==============================] - 10s 26ms/step - loss: 0.5479 - accuracy: 0.8519\n",
      "Epoch 54/100\n",
      "377/377 [==============================] - 11s 30ms/step - loss: 0.5447 - accuracy: 0.8511\n",
      "Epoch 55/100\n",
      "377/377 [==============================] - 12s 32ms/step - loss: 0.5414 - accuracy: 0.8516\n",
      "Epoch 56/100\n",
      "377/377 [==============================] - 12s 32ms/step - loss: 0.5367 - accuracy: 0.8498\n",
      "Epoch 57/100\n",
      "377/377 [==============================] - 11s 28ms/step - loss: 0.5336 - accuracy: 0.8510\n",
      "Epoch 58/100\n",
      "377/377 [==============================] - 11s 30ms/step - loss: 0.5361 - accuracy: 0.8504\n",
      "Epoch 59/100\n",
      "377/377 [==============================] - 12s 32ms/step - loss: 0.5317 - accuracy: 0.8497\n",
      "Epoch 60/100\n",
      "377/377 [==============================] - 11s 30ms/step - loss: 0.5247 - accuracy: 0.8519\n",
      "Epoch 61/100\n",
      "377/377 [==============================] - 11s 28ms/step - loss: 0.5245 - accuracy: 0.8522\n",
      "Epoch 62/100\n",
      "377/377 [==============================] - 10s 26ms/step - loss: 0.5216 - accuracy: 0.8516\n",
      "Epoch 63/100\n",
      "377/377 [==============================] - 15s 39ms/step - loss: 0.5254 - accuracy: 0.8511\n",
      "Epoch 64/100\n",
      "377/377 [==============================] - 11s 30ms/step - loss: 0.5168 - accuracy: 0.8511\n",
      "Epoch 65/100\n",
      "377/377 [==============================] - 12s 32ms/step - loss: 0.5123 - accuracy: 0.8534\n",
      "Epoch 66/100\n",
      "377/377 [==============================] - 10s 26ms/step - loss: 0.5127 - accuracy: 0.8524\n",
      "Epoch 67/100\n",
      "377/377 [==============================] - 12s 31ms/step - loss: 0.5132 - accuracy: 0.8518\n",
      "Epoch 68/100\n",
      "377/377 [==============================] - 11s 30ms/step - loss: 0.5100 - accuracy: 0.8521\n",
      "Epoch 69/100\n",
      "377/377 [==============================] - 11s 29ms/step - loss: 0.5106 - accuracy: 0.8513\n",
      "Epoch 70/100\n",
      "377/377 [==============================] - 11s 30ms/step - loss: 0.5058 - accuracy: 0.8528\n",
      "Epoch 71/100\n",
      "377/377 [==============================] - 11s 28ms/step - loss: 0.5072 - accuracy: 0.8521\n",
      "Epoch 72/100\n",
      "377/377 [==============================] - 11s 30ms/step - loss: 0.5048 - accuracy: 0.8542\n",
      "Epoch 73/100\n",
      "377/377 [==============================] - 11s 28ms/step - loss: 0.4998 - accuracy: 0.8530\n",
      "Epoch 74/100\n",
      "377/377 [==============================] - 12s 33ms/step - loss: 0.5041 - accuracy: 0.8524\n",
      "Epoch 75/100\n",
      "377/377 [==============================] - 12s 33ms/step - loss: 0.5038 - accuracy: 0.8519\n",
      "Epoch 76/100\n",
      "377/377 [==============================] - 12s 31ms/step - loss: 0.4991 - accuracy: 0.8535\n",
      "Epoch 77/100\n",
      "377/377 [==============================] - 10s 27ms/step - loss: 0.4966 - accuracy: 0.8530\n",
      "Epoch 78/100\n",
      "377/377 [==============================] - 12s 32ms/step - loss: 0.4950 - accuracy: 0.8532\n",
      "Epoch 79/100\n",
      "377/377 [==============================] - 12s 31ms/step - loss: 0.4967 - accuracy: 0.8521\n",
      "Epoch 80/100\n",
      "377/377 [==============================] - 11s 29ms/step - loss: 0.4990 - accuracy: 0.8513\n",
      "Epoch 81/100\n",
      "377/377 [==============================] - 9s 25ms/step - loss: 0.4944 - accuracy: 0.8520\n",
      "Epoch 82/100\n",
      "377/377 [==============================] - 9s 25ms/step - loss: 0.4907 - accuracy: 0.8514\n",
      "Epoch 83/100\n",
      "377/377 [==============================] - 11s 28ms/step - loss: 0.4984 - accuracy: 0.8512\n",
      "Epoch 84/100\n",
      "377/377 [==============================] - 12s 33ms/step - loss: 0.4904 - accuracy: 0.8535\n",
      "Epoch 85/100\n",
      "377/377 [==============================] - 11s 30ms/step - loss: 0.4880 - accuracy: 0.8548\n",
      "Epoch 86/100\n",
      "377/377 [==============================] - 10s 26ms/step - loss: 0.4874 - accuracy: 0.8530\n",
      "Epoch 87/100\n",
      "377/377 [==============================] - 12s 32ms/step - loss: 0.4867 - accuracy: 0.8533\n",
      "Epoch 88/100\n",
      "377/377 [==============================] - 10s 26ms/step - loss: 0.4911 - accuracy: 0.8530\n",
      "Epoch 89/100\n",
      "377/377 [==============================] - 9s 25ms/step - loss: 0.4883 - accuracy: 0.8528\n",
      "Epoch 90/100\n",
      "377/377 [==============================] - 10s 27ms/step - loss: 0.4844 - accuracy: 0.8546\n",
      "Epoch 91/100\n",
      "377/377 [==============================] - 11s 30ms/step - loss: 0.4856 - accuracy: 0.8535\n",
      "Epoch 92/100\n",
      "377/377 [==============================] - 11s 30ms/step - loss: 0.4867 - accuracy: 0.8529\n",
      "Epoch 93/100\n",
      "377/377 [==============================] - 10s 26ms/step - loss: 0.4848 - accuracy: 0.8540\n",
      "Epoch 94/100\n",
      "377/377 [==============================] - 9s 24ms/step - loss: 0.4851 - accuracy: 0.8528\n",
      "Epoch 95/100\n",
      "377/377 [==============================] - 11s 30ms/step - loss: 0.4812 - accuracy: 0.8544\n",
      "Epoch 96/100\n",
      "377/377 [==============================] - 12s 32ms/step - loss: 0.4823 - accuracy: 0.8525\n",
      "Epoch 97/100\n",
      "377/377 [==============================] - 12s 31ms/step - loss: 0.4823 - accuracy: 0.8550\n",
      "Epoch 98/100\n",
      "377/377 [==============================] - 12s 32ms/step - loss: 0.4783 - accuracy: 0.8548\n",
      "Epoch 99/100\n",
      "377/377 [==============================] - 11s 28ms/step - loss: 0.4770 - accuracy: 0.8545\n",
      "Epoch 100/100\n",
      "377/377 [==============================] - 10s 27ms/step - loss: 0.4774 - accuracy: 0.8526\n"
     ]
    }
   ],
   "source": [
    "history = model.fit(xs,ys,epochs=100,verbose=1)"
   ]
  },
  {
   "cell_type": "code",
   "execution_count": 14,
   "metadata": {},
   "outputs": [],
   "source": [
    "def plot_model(history,num_epochs):\n",
    "    training_acc = history.history['accuracy']\n",
    "    #     val_acc = history.history['val_accuracy']\n",
    "\n",
    "    training_loss = history.history['loss']\n",
    "    #     val_loss = history.history['val_loss']\n",
    "\n",
    "    epochs = np.arange(0,500)\n",
    "\n",
    "        # Two plots\n",
    "    fig, ax = plt.subplots(nrows=1,ncols=2,figsize=(10,6))\n",
    "\n",
    "    # Plot accuracy\n",
    "    ax[0].plot(epochs,training_acc,label='training',color='r')\n",
    "#     ax[0].plot(epochs,val_acc,label='validation',color='dodgerblue')\n",
    "    ax[0].set_title('Model Accuracy')\n",
    "    ax[0].set_xlabel('epochs')\n",
    "    ax[0].set_ylabel('accuracy')\n",
    "    ax[0].legend()\n",
    "\n",
    "    # Plot loss\n",
    "    ax[1].plot(epochs,training_loss,label='training',color='r')\n",
    "#     ax[1].plot(epochs,val_loss,label='validation',color='dodgerblue')\n",
    "    ax[1].set_title('Model Loss')\n",
    "    ax[1].set_xlabel('epochs')\n",
    "    ax[1].set_ylabel('loss')\n",
    "    ax[1].legend()\n",
    "\n",
    "    plt.show()\n",
    "\n"
   ]
  },
  {
   "cell_type": "code",
   "execution_count": 15,
   "metadata": {},
   "outputs": [
    {
     "ename": "ValueError",
     "evalue": "x and y must have same first dimension, but have shapes (500,) and (100,)",
     "output_type": "error",
     "traceback": [
      "\u001b[0;31m---------------------------------------------------------------------------\u001b[0m",
      "\u001b[0;31mValueError\u001b[0m                                Traceback (most recent call last)",
      "\u001b[0;32m<ipython-input-15-7b0e8f4e41c2>\u001b[0m in \u001b[0;36m<module>\u001b[0;34m\u001b[0m\n\u001b[1;32m      1\u001b[0m \u001b[0;32mimport\u001b[0m \u001b[0mmatplotlib\u001b[0m\u001b[0;34m.\u001b[0m\u001b[0mpyplot\u001b[0m \u001b[0;32mas\u001b[0m \u001b[0mplt\u001b[0m\u001b[0;34m\u001b[0m\u001b[0;34m\u001b[0m\u001b[0m\n\u001b[0;32m----> 2\u001b[0;31m \u001b[0mplot_model\u001b[0m\u001b[0;34m(\u001b[0m\u001b[0mhistory\u001b[0m\u001b[0;34m,\u001b[0m\u001b[0;36m500\u001b[0m\u001b[0;34m)\u001b[0m\u001b[0;34m\u001b[0m\u001b[0;34m\u001b[0m\u001b[0m\n\u001b[0m",
      "\u001b[0;32m<ipython-input-14-31cf01b47795>\u001b[0m in \u001b[0;36mplot_model\u001b[0;34m(history, num_epochs)\u001b[0m\n\u001b[1;32m     12\u001b[0m \u001b[0;34m\u001b[0m\u001b[0m\n\u001b[1;32m     13\u001b[0m     \u001b[0;31m# Plot accuracy\u001b[0m\u001b[0;34m\u001b[0m\u001b[0;34m\u001b[0m\u001b[0;34m\u001b[0m\u001b[0m\n\u001b[0;32m---> 14\u001b[0;31m     \u001b[0max\u001b[0m\u001b[0;34m[\u001b[0m\u001b[0;36m0\u001b[0m\u001b[0;34m]\u001b[0m\u001b[0;34m.\u001b[0m\u001b[0mplot\u001b[0m\u001b[0;34m(\u001b[0m\u001b[0mepochs\u001b[0m\u001b[0;34m,\u001b[0m\u001b[0mtraining_acc\u001b[0m\u001b[0;34m,\u001b[0m\u001b[0mlabel\u001b[0m\u001b[0;34m=\u001b[0m\u001b[0;34m'training'\u001b[0m\u001b[0;34m,\u001b[0m\u001b[0mcolor\u001b[0m\u001b[0;34m=\u001b[0m\u001b[0;34m'r'\u001b[0m\u001b[0;34m)\u001b[0m\u001b[0;34m\u001b[0m\u001b[0;34m\u001b[0m\u001b[0m\n\u001b[0m\u001b[1;32m     15\u001b[0m \u001b[0;31m#     ax[0].plot(epochs,val_acc,label='validation',color='dodgerblue')\u001b[0m\u001b[0;34m\u001b[0m\u001b[0;34m\u001b[0m\u001b[0;34m\u001b[0m\u001b[0m\n\u001b[1;32m     16\u001b[0m     \u001b[0max\u001b[0m\u001b[0;34m[\u001b[0m\u001b[0;36m0\u001b[0m\u001b[0;34m]\u001b[0m\u001b[0;34m.\u001b[0m\u001b[0mset_title\u001b[0m\u001b[0;34m(\u001b[0m\u001b[0;34m'Model Accuracy'\u001b[0m\u001b[0;34m)\u001b[0m\u001b[0;34m\u001b[0m\u001b[0;34m\u001b[0m\u001b[0m\n",
      "\u001b[0;32m~/anaconda3/lib/python3.8/site-packages/matplotlib/axes/_axes.py\u001b[0m in \u001b[0;36mplot\u001b[0;34m(self, scalex, scaley, data, *args, **kwargs)\u001b[0m\n\u001b[1;32m   1645\u001b[0m         \"\"\"\n\u001b[1;32m   1646\u001b[0m         \u001b[0mkwargs\u001b[0m \u001b[0;34m=\u001b[0m \u001b[0mcbook\u001b[0m\u001b[0;34m.\u001b[0m\u001b[0mnormalize_kwargs\u001b[0m\u001b[0;34m(\u001b[0m\u001b[0mkwargs\u001b[0m\u001b[0;34m,\u001b[0m \u001b[0mmlines\u001b[0m\u001b[0;34m.\u001b[0m\u001b[0mLine2D\u001b[0m\u001b[0;34m)\u001b[0m\u001b[0;34m\u001b[0m\u001b[0;34m\u001b[0m\u001b[0m\n\u001b[0;32m-> 1647\u001b[0;31m         \u001b[0mlines\u001b[0m \u001b[0;34m=\u001b[0m \u001b[0;34m[\u001b[0m\u001b[0;34m*\u001b[0m\u001b[0mself\u001b[0m\u001b[0;34m.\u001b[0m\u001b[0m_get_lines\u001b[0m\u001b[0;34m(\u001b[0m\u001b[0;34m*\u001b[0m\u001b[0margs\u001b[0m\u001b[0;34m,\u001b[0m \u001b[0mdata\u001b[0m\u001b[0;34m=\u001b[0m\u001b[0mdata\u001b[0m\u001b[0;34m,\u001b[0m \u001b[0;34m**\u001b[0m\u001b[0mkwargs\u001b[0m\u001b[0;34m)\u001b[0m\u001b[0;34m]\u001b[0m\u001b[0;34m\u001b[0m\u001b[0;34m\u001b[0m\u001b[0m\n\u001b[0m\u001b[1;32m   1648\u001b[0m         \u001b[0;32mfor\u001b[0m \u001b[0mline\u001b[0m \u001b[0;32min\u001b[0m \u001b[0mlines\u001b[0m\u001b[0;34m:\u001b[0m\u001b[0;34m\u001b[0m\u001b[0;34m\u001b[0m\u001b[0m\n\u001b[1;32m   1649\u001b[0m             \u001b[0mself\u001b[0m\u001b[0;34m.\u001b[0m\u001b[0madd_line\u001b[0m\u001b[0;34m(\u001b[0m\u001b[0mline\u001b[0m\u001b[0;34m)\u001b[0m\u001b[0;34m\u001b[0m\u001b[0;34m\u001b[0m\u001b[0m\n",
      "\u001b[0;32m~/anaconda3/lib/python3.8/site-packages/matplotlib/axes/_base.py\u001b[0m in \u001b[0;36m__call__\u001b[0;34m(self, *args, **kwargs)\u001b[0m\n\u001b[1;32m    214\u001b[0m                 \u001b[0mthis\u001b[0m \u001b[0;34m+=\u001b[0m \u001b[0margs\u001b[0m\u001b[0;34m[\u001b[0m\u001b[0;36m0\u001b[0m\u001b[0;34m]\u001b[0m\u001b[0;34m,\u001b[0m\u001b[0;34m\u001b[0m\u001b[0;34m\u001b[0m\u001b[0m\n\u001b[1;32m    215\u001b[0m                 \u001b[0margs\u001b[0m \u001b[0;34m=\u001b[0m \u001b[0margs\u001b[0m\u001b[0;34m[\u001b[0m\u001b[0;36m1\u001b[0m\u001b[0;34m:\u001b[0m\u001b[0;34m]\u001b[0m\u001b[0;34m\u001b[0m\u001b[0;34m\u001b[0m\u001b[0m\n\u001b[0;32m--> 216\u001b[0;31m             \u001b[0;32myield\u001b[0m \u001b[0;32mfrom\u001b[0m \u001b[0mself\u001b[0m\u001b[0;34m.\u001b[0m\u001b[0m_plot_args\u001b[0m\u001b[0;34m(\u001b[0m\u001b[0mthis\u001b[0m\u001b[0;34m,\u001b[0m \u001b[0mkwargs\u001b[0m\u001b[0;34m)\u001b[0m\u001b[0;34m\u001b[0m\u001b[0;34m\u001b[0m\u001b[0m\n\u001b[0m\u001b[1;32m    217\u001b[0m \u001b[0;34m\u001b[0m\u001b[0m\n\u001b[1;32m    218\u001b[0m     \u001b[0;32mdef\u001b[0m \u001b[0mget_next_color\u001b[0m\u001b[0;34m(\u001b[0m\u001b[0mself\u001b[0m\u001b[0;34m)\u001b[0m\u001b[0;34m:\u001b[0m\u001b[0;34m\u001b[0m\u001b[0;34m\u001b[0m\u001b[0m\n",
      "\u001b[0;32m~/anaconda3/lib/python3.8/site-packages/matplotlib/axes/_base.py\u001b[0m in \u001b[0;36m_plot_args\u001b[0;34m(self, tup, kwargs)\u001b[0m\n\u001b[1;32m    340\u001b[0m \u001b[0;34m\u001b[0m\u001b[0m\n\u001b[1;32m    341\u001b[0m         \u001b[0;32mif\u001b[0m \u001b[0mx\u001b[0m\u001b[0;34m.\u001b[0m\u001b[0mshape\u001b[0m\u001b[0;34m[\u001b[0m\u001b[0;36m0\u001b[0m\u001b[0;34m]\u001b[0m \u001b[0;34m!=\u001b[0m \u001b[0my\u001b[0m\u001b[0;34m.\u001b[0m\u001b[0mshape\u001b[0m\u001b[0;34m[\u001b[0m\u001b[0;36m0\u001b[0m\u001b[0;34m]\u001b[0m\u001b[0;34m:\u001b[0m\u001b[0;34m\u001b[0m\u001b[0;34m\u001b[0m\u001b[0m\n\u001b[0;32m--> 342\u001b[0;31m             raise ValueError(f\"x and y must have same first dimension, but \"\n\u001b[0m\u001b[1;32m    343\u001b[0m                              f\"have shapes {x.shape} and {y.shape}\")\n\u001b[1;32m    344\u001b[0m         \u001b[0;32mif\u001b[0m \u001b[0mx\u001b[0m\u001b[0;34m.\u001b[0m\u001b[0mndim\u001b[0m \u001b[0;34m>\u001b[0m \u001b[0;36m2\u001b[0m \u001b[0;32mor\u001b[0m \u001b[0my\u001b[0m\u001b[0;34m.\u001b[0m\u001b[0mndim\u001b[0m \u001b[0;34m>\u001b[0m \u001b[0;36m2\u001b[0m\u001b[0;34m:\u001b[0m\u001b[0;34m\u001b[0m\u001b[0;34m\u001b[0m\u001b[0m\n",
      "\u001b[0;31mValueError\u001b[0m: x and y must have same first dimension, but have shapes (500,) and (100,)"
     ]
    },
    {
     "data": {
      "image/png": "[encoded data removed]",
      "text/plain": [
       "<Figure size 720x432 with 2 Axes>"
      ]
     },
     "metadata": {
      "needs_background": "light"
     },
     "output_type": "display_data"
    }
   ],
   "source": [
    "import matplotlib.pyplot as plt\n",
    "plot_model(history,500)"
   ]
  },
  {
   "cell_type": "markdown",
   "metadata": {},
   "source": [
    "## Prediction"
   ]
  },
  {
   "cell_type": "code",
   "execution_count": null,
   "metadata": {},
   "outputs": [],
   "source": [
    "seed_text = \"I've got a bad feeling about this\"\n",
    "next_words = 30\n",
    "\n",
    "for _ in range(next_words):\n",
    "    token_list = tokenizer.texts_to_sequences([seed_text])[0]\n",
    "    token_list = pad_sequences([token_list],padding='pre',maxlen=max_sequence_len-1)\n",
    "    predicted = model.predict_classes(token_list,verbose=0)[0]    \n",
    "    output_word = ''\n",
    "    for word,index in tokenizer.word_index.items():\n",
    "        if index==predicted:\n",
    "            output_word = word\n",
    "            break\n",
    "    seed_text += \" \" + word\n",
    "    \n",
    "print(seed_text)"
   ]
  }
 ],
 "metadata": {
  "kernelspec": {
   "display_name": "Python 3",
   "language": "python",
   "name": "python3"
  },
  "language_info": {
   "codemirror_mode": {
    "name": "ipython",
    "version": 3
   },
   "file_extension": ".py",
   "mimetype": "text/x-python",
   "name": "python",
   "nbconvert_exporter": "python",
   "pygments_lexer": "ipython3",
   "version": "3.8.3"
  }
 },
 "nbformat": 4,
 "nbformat_minor": 4
}
