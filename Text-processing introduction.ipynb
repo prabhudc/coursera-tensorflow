{
 "cells": [
  {
   "cell_type": "markdown",
   "metadata": {},
   "source": [
    "## Part of coursera Deep-Learning w/ Tensorflow Specialization"
   ]
  },
  {
   "cell_type": "code",
   "execution_count": 3,
   "metadata": {},
   "outputs": [],
   "source": [
    "import tensorflow as tf\n",
    "from tensorflow import keras\n",
    "\n",
    "from tensorflow.keras.preprocessing.text import Tokenizer\n",
    "from tensorflow.keras.preprocessing.sequence import pad_sequences"
   ]
  },
  {
   "cell_type": "code",
   "execution_count": 16,
   "metadata": {},
   "outputs": [
    {
     "name": "stdout",
     "output_type": "stream",
     "text": [
      "Word index : \n",
      " {'<OOV>': 1, 'loves': 2, 'me': 3, 'she': 4, 'not': 5, 'anybody': 6, \"i'll\": 7, 'die': 8, 'deep': 9, 'learning': 10, 'alone': 11}\n",
      "\n",
      "Sequences : \n",
      " [[4, 2, 3], [4, 2, 3, 5], [6, 2, 3], [7, 8, 9, 10, 11]]\n",
      "\n",
      "Padded Sequences : \n",
      " [[ 0  0  4  2  3]\n",
      " [ 0  4  2  3  5]\n",
      " [ 0  0  6  2  3]\n",
      " [ 7  8  9 10 11]]\n"
     ]
    }
   ],
   "source": [
    "sentences = [\n",
    "    'She loves me',\n",
    "    'She loves me not',\n",
    "    'Anybody loves me?',\n",
    "    'I\\'ll die deep learning alone'\n",
    "]\n",
    "\n",
    "tokenizer = Tokenizer(num_words=100, oov_token = '<OOV>')\n",
    "tokenizer.fit_on_texts(sentences)\n",
    "word_index = tokenizer.word_index\n",
    "\n",
    "sequences = tokenizer.texts_to_sequences(sentences)\n",
    "padded = pad_sequences(sequences, maxlen=5)\n",
    "\n",
    "print(\"Word index : \\n\", word_index)\n",
    "print(\"\\nSequences : \\n\", sequences)\n",
    "print(\"\\nPadded Sequences : \\n\", padded)"
   ]
  },
  {
   "cell_type": "code",
   "execution_count": 20,
   "metadata": {},
   "outputs": [
    {
     "name": "stdout",
     "output_type": "stream",
     "text": [
      "\n",
      "Sequences : \n",
      " [[1, 1, 2, 3], [1, 1, 1, 9, 10, 1, 1, 1, 1, 1]]\n",
      "\n",
      "Padded Sequences : \n",
      " [[ 1  1  2  3  0]\n",
      " [ 1  1  1  9 10]]\n"
     ]
    }
   ],
   "source": [
    "test_data = ['My dog loves me',\n",
    "            'You can\\'t throw deep learning around the way you like']\n",
    "\n",
    "sequences = tokenizer.texts_to_sequences(test_data)\n",
    "padded = pad_sequences(sequences, maxlen=5, padding='post',truncating='post')\n",
    "\n",
    "print(\"\\nSequences : \\n\", sequences)\n",
    "print(\"\\nPadded Sequences : \\n\", padded)"
   ]
  }
 ],
 "metadata": {
  "kernelspec": {
   "display_name": "Python 3",
   "language": "python",
   "name": "python3"
  },
  "language_info": {
   "codemirror_mode": {
    "name": "ipython",
    "version": 3
   },
   "file_extension": ".py",
   "mimetype": "text/x-python",
   "name": "python",
   "nbconvert_exporter": "python",
   "pygments_lexer": "ipython3",
   "version": "3.8.3"
  }
 },
 "nbformat": 4,
 "nbformat_minor": 4
}
