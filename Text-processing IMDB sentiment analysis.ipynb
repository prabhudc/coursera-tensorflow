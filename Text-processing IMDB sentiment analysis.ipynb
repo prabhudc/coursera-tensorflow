{
 "cells": [
  {
   "cell_type": "markdown",
   "metadata": {},
   "source": [
    "## IMDB Sentiment Analysis\n",
    "#### ( Part of coursera Deep-Learning w/ Tensorflow Specialization )"
   ]
  },
  {
   "cell_type": "code",
   "execution_count": 10,
   "metadata": {},
   "outputs": [],
   "source": [
    "# !pip install tensorflow_datasets"
   ]
  },
  {
   "cell_type": "code",
   "execution_count": 1,
   "metadata": {},
   "outputs": [
    {
     "name": "stdout",
     "output_type": "stream",
     "text": [
      "2.2.0\n"
     ]
    }
   ],
   "source": [
    "import numpy as np\n",
    "\n",
    "import  tensorflow as tf\n",
    "import tensorflow_datasets as tfds\n",
    "print(tf.__version__)"
   ]
  },
  {
   "cell_type": "code",
   "execution_count": 2,
   "metadata": {},
   "outputs": [],
   "source": [
    "imdb, info = tfds.load(\"imdb_reviews\",with_info=True,as_supervised=True)"
   ]
  },
  {
   "cell_type": "code",
   "execution_count": 3,
   "metadata": {},
   "outputs": [],
   "source": [
    "train_data , test_data = imdb['train'], imdb['test']\n",
    "\n",
    "training_sentences = []\n",
    "training_labels = []\n",
    "\n",
    "testing_sentences = []\n",
    "testing_labels = []\n",
    "\n",
    "for s, l in train_data:\n",
    "    training_sentences.append(s.numpy().decode('utf8'))\n",
    "    training_labels.append(l)\n",
    "    \n",
    "for s, l in test_data:\n",
    "    testing_sentences.append(s.numpy().decode('utf8'))\n",
    "    testing_labels.append(l)\n",
    "    \n",
    "training_labels_final  = np.array(training_labels)\n",
    "testing_labels_final = np.array(testing_labels)\n"
   ]
  },
  {
   "cell_type": "code",
   "execution_count": 4,
   "metadata": {},
   "outputs": [],
   "source": [
    "vocab_size = 10000\n",
    "embedding_dim = 16\n",
    "max_length = 120\n",
    "trunc_type='post'\n",
    "oov_tok=\"<OOV>\"\n",
    "\n",
    "from tensorflow.keras.preprocessing.text import Tokenizer\n",
    "from tensorflow.keras.preprocessing.sequence import pad_sequences\n",
    "\n",
    "\n",
    "tokenizer = Tokenizer(num_words = vocab_size, oov_token = oov_tok)\n",
    "tokenizer.fit_on_texts(training_sentences)\n",
    "word_index = tokenizer.word_index\n",
    "sequences = tokenizer.texts_to_sequences(training_sentences)\n",
    "padded = pad_sequences(sequences, maxlen=max_length, truncating=trunc_type)\n",
    "\n",
    "\n",
    "testing_sequences = tokenizer.texts_to_sequences(testing_sentences)\n",
    "testing_padded = pad_sequences(testing_sequences, maxlen=max_length)\n"
   ]
  },
  {
   "cell_type": "code",
   "execution_count": 5,
   "metadata": {},
   "outputs": [
    {
     "name": "stdout",
     "output_type": "stream",
     "text": [
      "? ? ? ? ? ? ? ? ? ? ? ? ? ? ? ? ? ? ? ? ? ? ? ? ? ? ? ? ? ? ? ? ? ? ? ? ? ? ? as others have mentioned all the women that go nude in this film are mostly absolutely gorgeous the plot very <OOV> shows the <OOV> of the female <OOV> when men are around they want to be pursued but when no men are around they become the <OOV> of a 14 year old boy and the boy becomes a man really fast we should all be so lucky at this age he then gets up the courage to pursue his true love\n",
      "------------------------------------------------------------\n",
      "As others have mentioned, all the women that go nude in this film are mostly absolutely gorgeous. The plot very ably shows the hypocrisy of the female libido. When men are around they want to be pursued, but when no \"men\" are around, they become the pursuers of a 14 year old boy. And the boy becomes a man really fast (we should all be so lucky at this age!). He then gets up the courage to pursue his true love.\n"
     ]
    }
   ],
   "source": [
    "# Create a reverse index to ease of lookup\n",
    "reverse_word_index = dict([(value,key) for (key, value ) in word_index.items()])\n",
    "\n",
    "# function that does the lookup and joins the words into a sentence\n",
    "def decode_review(text):\n",
    "    return ' '.join([reverse_word_index.get(word,'?') for word in text])\n",
    "\n",
    "# Compare both\n",
    "print(decode_review(padded[4]))\n",
    "print(''.join(['-' for i in range(60)])) # Seperator\n",
    "print(training_sentences[4])"
   ]
  },
  {
   "cell_type": "code",
   "execution_count": 6,
   "metadata": {},
   "outputs": [
    {
     "name": "stdout",
     "output_type": "stream",
     "text": [
      "Model: \"sequential\"\n",
      "_________________________________________________________________\n",
      "Layer (type)                 Output Shape              Param #   \n",
      "=================================================================\n",
      "embedding (Embedding)        (None, 120, 16)           160000    \n",
      "_________________________________________________________________\n",
      "flatten (Flatten)            (None, 1920)              0         \n",
      "_________________________________________________________________\n",
      "dense (Dense)                (None, 6)                 11526     \n",
      "_________________________________________________________________\n",
      "dense_1 (Dense)              (None, 1)                 7         \n",
      "=================================================================\n",
      "Total params: 171,533\n",
      "Trainable params: 171,533\n",
      "Non-trainable params: 0\n",
      "_________________________________________________________________\n"
     ]
    }
   ],
   "source": [
    "model = tf.keras.Sequential([\n",
    "    tf.keras.layers.Embedding(vocab_size, embedding_dim, input_length=max_length),\n",
    "    tf.keras.layers.Flatten(),\n",
    "    tf.keras.layers.Dense(6, activation='relu'),\n",
    "    tf.keras.layers.Dense(1, activation='sigmoid')\n",
    "])\n",
    "\n",
    "model.compile(loss='binary_crossentropy',\n",
    "              optimizer='adam',\n",
    "             metrics=['accuracy'])\n",
    "model.summary()"
   ]
  },
  {
   "cell_type": "code",
   "execution_count": 7,
   "metadata": {},
   "outputs": [
    {
     "name": "stdout",
     "output_type": "stream",
     "text": [
      "Epoch 1/10\n",
      "782/782 [==============================] - 28s 35ms/step - loss: 0.5005 - accuracy: 0.7365 - val_loss: 0.3363 - val_accuracy: 0.8546\n",
      "Epoch 2/10\n",
      "782/782 [==============================] - 22s 28ms/step - loss: 0.2475 - accuracy: 0.9050 - val_loss: 0.3696 - val_accuracy: 0.8363\n",
      "Epoch 3/10\n",
      "782/782 [==============================] - 26s 33ms/step - loss: 0.1026 - accuracy: 0.9722 - val_loss: 0.4638 - val_accuracy: 0.8204\n",
      "Epoch 4/10\n",
      "782/782 [==============================] - 28s 36ms/step - loss: 0.0279 - accuracy: 0.9962 - val_loss: 0.5243 - val_accuracy: 0.8244\n",
      "Epoch 5/10\n",
      "782/782 [==============================] - 26s 33ms/step - loss: 0.0085 - accuracy: 0.9991 - val_loss: 0.5833 - val_accuracy: 0.8255\n",
      "Epoch 6/10\n",
      "782/782 [==============================] - 21s 27ms/step - loss: 0.0027 - accuracy: 0.9998 - val_loss: 0.6426 - val_accuracy: 0.8249\n",
      "Epoch 7/10\n",
      "782/782 [==============================] - 30s 38ms/step - loss: 0.0010 - accuracy: 1.0000 - val_loss: 0.6835 - val_accuracy: 0.8262\n",
      "Epoch 8/10\n",
      "782/782 [==============================] - 19s 25ms/step - loss: 5.1176e-04 - accuracy: 1.0000 - val_loss: 0.7250 - val_accuracy: 0.8271\n",
      "Epoch 9/10\n",
      "782/782 [==============================] - 20s 26ms/step - loss: 2.9355e-04 - accuracy: 1.0000 - val_loss: 0.7603 - val_accuracy: 0.8274\n",
      "Epoch 10/10\n",
      "782/782 [==============================] - 21s 27ms/step - loss: 1.7400e-04 - accuracy: 1.0000 - val_loss: 0.8027 - val_accuracy: 0.8270\n"
     ]
    }
   ],
   "source": [
    "num_epochs = 10\n",
    "history = model.fit(padded, \n",
    "          training_labels_final, \n",
    "          epochs=num_epochs,\n",
    "          validation_data=(testing_padded,testing_labels_final)\n",
    "         )"
   ]
  },
  {
   "cell_type": "code",
   "execution_count": 60,
   "metadata": {},
   "outputs": [
    {
     "data": {
      "image/png": "[encoded data removed]",
      "text/plain": [
       "<Figure size 432x288 with 1 Axes>"
      ]
     },
     "metadata": {
      "needs_background": "light"
     },
     "output_type": "display_data"
    }
   ],
   "source": [
    "import matplotlib.pyplot as plt\n",
    "\n",
    "train_accuracy = history.history['accuracy']\n",
    "val_accuracy = history.history['val_accuracy']\n",
    "epochs = np.arange(0,num_epochs)\n",
    "\n",
    "plt.plot(epochs, train_accuracy)\n",
    "plt.plot(epochs, val_accuracy)\n",
    "plt.show()"
   ]
  },
  {
   "cell_type": "markdown",
   "metadata": {},
   "source": [
    "---\n",
    "Change model to use GlobalAveragePooling1D inplace of Flatten"
   ]
  },
  {
   "cell_type": "code",
   "execution_count": 61,
   "metadata": {},
   "outputs": [
    {
     "name": "stdout",
     "output_type": "stream",
     "text": [
      "Model: \"sequential_3\"\n",
      "_________________________________________________________________\n",
      "Layer (type)                 Output Shape              Param #   \n",
      "=================================================================\n",
      "embedding_3 (Embedding)      (None, 120, 16)           160000    \n",
      "_________________________________________________________________\n",
      "global_average_pooling1d (Gl (None, 16)                0         \n",
      "_________________________________________________________________\n",
      "dense_6 (Dense)              (None, 6)                 102       \n",
      "_________________________________________________________________\n",
      "dense_7 (Dense)              (None, 1)                 7         \n",
      "=================================================================\n",
      "Total params: 160,109\n",
      "Trainable params: 160,109\n",
      "Non-trainable params: 0\n",
      "_________________________________________________________________\n"
     ]
    }
   ],
   "source": [
    "model = tf.keras.Sequential([\n",
    "    tf.keras.layers.Embedding(vocab_size, embedding_dim, input_length=max_length),\n",
    "    tf.keras.layers.GlobalAveragePooling1D(),\n",
    "    tf.keras.layers.Dense(6, activation='relu'),\n",
    "    tf.keras.layers.Dense(1, activation='sigmoid')\n",
    "])\n",
    "\n",
    "model.compile(loss='binary_crossentropy',\n",
    "              optimizer='adam',\n",
    "             metrics=['accuracy'])\n",
    "model.summary()"
   ]
  },
  {
   "cell_type": "code",
   "execution_count": 62,
   "metadata": {},
   "outputs": [
    {
     "name": "stdout",
     "output_type": "stream",
     "text": [
      "Epoch 1/10\n",
      "782/782 [==============================] - 7s 9ms/step - loss: 0.5382 - accuracy: 0.7608 - val_loss: 0.3761 - val_accuracy: 0.8448\n",
      "Epoch 2/10\n",
      "782/782 [==============================] - 7s 9ms/step - loss: 0.3254 - accuracy: 0.8653 - val_loss: 0.3294 - val_accuracy: 0.8590\n",
      "Epoch 3/10\n",
      "782/782 [==============================] - 7s 9ms/step - loss: 0.2649 - accuracy: 0.8926 - val_loss: 0.3319 - val_accuracy: 0.8570\n",
      "Epoch 4/10\n",
      "782/782 [==============================] - 7s 9ms/step - loss: 0.2291 - accuracy: 0.9117 - val_loss: 0.3477 - val_accuracy: 0.8525\n",
      "Epoch 5/10\n",
      "782/782 [==============================] - 6s 8ms/step - loss: 0.2030 - accuracy: 0.9235 - val_loss: 0.3765 - val_accuracy: 0.8450\n",
      "Epoch 6/10\n",
      "782/782 [==============================] - 7s 9ms/step - loss: 0.1818 - accuracy: 0.9336 - val_loss: 0.3989 - val_accuracy: 0.8409\n",
      "Epoch 7/10\n",
      "782/782 [==============================] - 7s 9ms/step - loss: 0.1659 - accuracy: 0.9404 - val_loss: 0.4337 - val_accuracy: 0.8352\n",
      "Epoch 8/10\n",
      "782/782 [==============================] - 7s 9ms/step - loss: 0.1503 - accuracy: 0.9476 - val_loss: 0.4635 - val_accuracy: 0.8318\n",
      "Epoch 9/10\n",
      "782/782 [==============================] - 7s 9ms/step - loss: 0.1358 - accuracy: 0.9548 - val_loss: 0.5057 - val_accuracy: 0.8257\n",
      "Epoch 10/10\n",
      "782/782 [==============================] - 7s 9ms/step - loss: 0.1258 - accuracy: 0.9587 - val_loss: 0.5394 - val_accuracy: 0.8243\n"
     ]
    }
   ],
   "source": [
    "history = model.fit(padded, \n",
    "          training_labels_final, \n",
    "          epochs=num_epochs,\n",
    "          validation_data=(testing_padded,testing_labels_final)\n",
    "         )"
   ]
  },
  {
   "cell_type": "code",
   "execution_count": 66,
   "metadata": {},
   "outputs": [
    {
     "data": {
      "image/png": "[encoded data removed]",
      "text/plain": [
       "<Figure size 432x288 with 1 Axes>"
      ]
     },
     "metadata": {
      "needs_background": "light"
     },
     "output_type": "display_data"
    }
   ],
   "source": [
    "train_accuracy = history.history['accuracy']\n",
    "val_accuracy = history.history['val_accuracy']\n",
    "epochs = np.arange(0,num_epochs)\n",
    "\n",
    "plt.plot(epochs, train_accuracy,color='r')\n",
    "plt.plot(epochs, val_accuracy,color='b')\n",
    "plt.show()"
   ]
  },
  {
   "cell_type": "code",
   "execution_count": 69,
   "metadata": {},
   "outputs": [
    {
     "name": "stdout",
     "output_type": "stream",
     "text": [
      "(10000, 16)\n"
     ]
    }
   ],
   "source": [
    "e = model.layers[0]\n",
    "weights = e.get_weights()[0]\n",
    "print(weights.shape)"
   ]
  },
  {
   "cell_type": "code",
   "execution_count": 77,
   "metadata": {},
   "outputs": [],
   "source": [
    "f_vecs = open('files/vecs.tsv','w')\n",
    "f_meta = open('files/meta.tsv','w')\n",
    "\n",
    "for word_num in range(1,vocab_size):\n",
    "    word = reverse_word_index[word_num]\n",
    "    embeddings = weights[word_num]\n",
    "    f_meta.write(word+\"\\n\")\n",
    "    f_vecs.write('\\t'.join([str(x) for x in embeddings]) + \"\\n\")\n",
    "\n",
    "f_vecs.close()\n",
    "f_meta.close()"
   ]
  },
  {
   "cell_type": "code",
   "execution_count": null,
   "metadata": {},
   "outputs": [],
   "source": []
  }
 ],
 "metadata": {
  "kernelspec": {
   "display_name": "Python 3",
   "language": "python",
   "name": "python3"
  },
  "language_info": {
   "codemirror_mode": {
    "name": "ipython",
    "version": 3
   },
   "file_extension": ".py",
   "mimetype": "text/x-python",
   "name": "python",
   "nbconvert_exporter": "python",
   "pygments_lexer": "ipython3",
   "version": "3.8.3"
  }
 },
 "nbformat": 4,
 "nbformat_minor": 4
}
