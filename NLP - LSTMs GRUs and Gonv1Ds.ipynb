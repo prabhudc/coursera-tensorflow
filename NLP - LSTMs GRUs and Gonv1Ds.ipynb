{
 "cells": [
  {
   "cell_type": "markdown",
   "metadata": {},
   "source": [
    "# NLP - LSTMs, GRUs, Conv1D"
   ]
  },
  {
   "cell_type": "code",
   "execution_count": 18,
   "metadata": {},
   "outputs": [
    {
     "name": "stdout",
     "output_type": "stream",
     "text": [
      "2.2.0\n"
     ]
    }
   ],
   "source": [
    "import tensorflow_datasets as tfds\n",
    "import tensorflow as tf\n",
    "import numpy as np\n",
    "print(tf.__version__)"
   ]
  },
  {
   "cell_type": "code",
   "execution_count": 3,
   "metadata": {},
   "outputs": [
    {
     "name": "stderr",
     "output_type": "stream",
     "text": [
      "WARNING:absl:TFDS datasets with text encoding are deprecated and will be removed in a future version. Instead, you should use the plain text version and tokenize the text using `tensorflow_text` (See: https://www.tensorflow.org/tutorials/tensorflow_text/intro#tfdata_example)\n"
     ]
    }
   ],
   "source": [
    "dataset, info = tfds.load('imdb_reviews/subwords8k', with_info=True, as_supervised=True)\n",
    "train_dataset, test_dataset = dataset['train'], dataset['test']"
   ]
  },
  {
   "cell_type": "markdown",
   "metadata": {},
   "source": [
    "## Generic plot function"
   ]
  },
  {
   "cell_type": "code",
   "execution_count": 24,
   "metadata": {},
   "outputs": [],
   "source": [
    "def plot_model(history,num_epochs):\n",
    "    training_acc = history.history['accuracy']\n",
    "    val_acc = history.history['val_accuracy']\n",
    "\n",
    "    training_loss = history.history['loss']\n",
    "    val_loss = history.history['val_loss']\n",
    "\n",
    "    epochs = np.arange(0,num_epochs)\n",
    "\n",
    "    # Two plots\n",
    "    fig, ax = plt.subplots(nrows=1,ncols=2,figsize=(10,6))\n",
    "\n",
    "    # Plot accuracy\n",
    "    ax[0].plot(epochs,training_acc,label='training',color='r')\n",
    "    ax[0].plot(epochs,val_acc,label='validation',color='dodgerblue')\n",
    "    ax[0].set_title('Model Accuracy')\n",
    "    ax[0].set_xlabel('epochs')\n",
    "    ax[0].set_ylabel('accuracy')\n",
    "    ax[0].legend()\n",
    "\n",
    "    # Plot loss\n",
    "    ax[1].plot(epochs,training_loss,label='training',color='r')\n",
    "    ax[1].plot(epochs,val_loss,label='validation',color='dodgerblue')\n",
    "    ax[1].set_title('Model Loss')\n",
    "    ax[1].set_xlabel('epochs')\n",
    "    ax[1].set_ylabel('loss')\n",
    "    ax[1].legend()\n",
    "\n",
    "    plt.show()"
   ]
  },
  {
   "cell_type": "code",
   "execution_count": 4,
   "metadata": {},
   "outputs": [],
   "source": [
    "tokenizer = info.features['text'].encoder"
   ]
  },
  {
   "cell_type": "code",
   "execution_count": 8,
   "metadata": {},
   "outputs": [],
   "source": [
    "BUFFER_SIZE = 10000\n",
    "BATCH_SIZE = 64\n",
    "\n",
    "train_dataset = train_dataset.shuffle(BUFFER_SIZE)\n",
    "train_dataset = train_dataset.padded_batch(BATCH_SIZE)\n",
    "test_dataset = test_dataset.padded_batch(BATCH_SIZE)"
   ]
  },
  {
   "cell_type": "code",
   "execution_count": 11,
   "metadata": {},
   "outputs": [
    {
     "name": "stdout",
     "output_type": "stream",
     "text": [
      "Model: \"sequential_2\"\n",
      "_________________________________________________________________\n",
      "Layer (type)                 Output Shape              Param #   \n",
      "=================================================================\n",
      "embedding_2 (Embedding)      (None, None, 64)          523840    \n",
      "_________________________________________________________________\n",
      "conv1d_2 (Conv1D)            (None, None, 128)         41088     \n",
      "_________________________________________________________________\n",
      "global_average_pooling1d_2 ( (None, 128)               0         \n",
      "_________________________________________________________________\n",
      "dense_4 (Dense)              (None, 64)                8256      \n",
      "_________________________________________________________________\n",
      "dense_5 (Dense)              (None, 1)                 65        \n",
      "=================================================================\n",
      "Total params: 573,249\n",
      "Trainable params: 573,249\n",
      "Non-trainable params: 0\n",
      "_________________________________________________________________\n"
     ]
    }
   ],
   "source": [
    "model = tf.keras.Sequential([\n",
    "    tf.keras.layers.Embedding(tokenizer.vocab_size, 64),\n",
    "    tf.keras.layers.Conv1D(128, 5, activation='relu'),\n",
    "    tf.keras.layers.GlobalAveragePooling1D(),\n",
    "    tf.keras.layers.Dense(64, activation='relu'),\n",
    "    tf.keras.layers.Dense(1, activation='sigmoid')\n",
    "])\n",
    "model.compile(loss='binary_crossentropy', optimizer='adam', metrics=['accuracy'])\n",
    "model.summary()"
   ]
  },
  {
   "cell_type": "code",
   "execution_count": 12,
   "metadata": {},
   "outputs": [
    {
     "name": "stdout",
     "output_type": "stream",
     "text": [
      "Epoch 1/10\n",
      "391/391 [==============================] - 100s 257ms/step - loss: 0.4575 - accuracy: 0.7731 - val_loss: 0.3418 - val_accuracy: 0.8626\n",
      "Epoch 2/10\n",
      "391/391 [==============================] - 104s 265ms/step - loss: 0.2318 - accuracy: 0.9134 - val_loss: 0.3116 - val_accuracy: 0.8755\n",
      "Epoch 3/10\n",
      "391/391 [==============================] - 109s 278ms/step - loss: 0.1735 - accuracy: 0.9377 - val_loss: 0.3275 - val_accuracy: 0.8740\n",
      "Epoch 4/10\n",
      "391/391 [==============================] - 102s 261ms/step - loss: 0.1406 - accuracy: 0.9496 - val_loss: 0.3758 - val_accuracy: 0.8692\n",
      "Epoch 5/10\n",
      "391/391 [==============================] - 102s 260ms/step - loss: 0.1139 - accuracy: 0.9596 - val_loss: 0.4305 - val_accuracy: 0.8653\n",
      "Epoch 6/10\n",
      "391/391 [==============================] - 108s 277ms/step - loss: 0.0936 - accuracy: 0.9680 - val_loss: 0.4545 - val_accuracy: 0.8614\n",
      "Epoch 7/10\n",
      "391/391 [==============================] - 104s 267ms/step - loss: 0.0739 - accuracy: 0.9766 - val_loss: 0.5340 - val_accuracy: 0.8576\n",
      "Epoch 8/10\n",
      "391/391 [==============================] - 99s 254ms/step - loss: 0.0597 - accuracy: 0.9810 - val_loss: 0.6263 - val_accuracy: 0.8506\n",
      "Epoch 9/10\n",
      "391/391 [==============================] - 99s 253ms/step - loss: 0.0458 - accuracy: 0.9864 - val_loss: 0.6968 - val_accuracy: 0.8528\n",
      "Epoch 10/10\n",
      "391/391 [==============================] - 100s 255ms/step - loss: 0.0359 - accuracy: 0.9899 - val_loss: 0.7739 - val_accuracy: 0.8530\n"
     ]
    }
   ],
   "source": [
    "NUM_EPOCHS = 10\n",
    "history = model.fit(train_dataset, epochs=NUM_EPOCHS, validation_data=test_dataset)"
   ]
  },
  {
   "cell_type": "code",
   "execution_count": 13,
   "metadata": {},
   "outputs": [],
   "source": [
    "import matplotlib.pyplot as plt\n",
    "\n",
    "\n",
    "def plot_graphs(history, string):\n",
    "  plt.plot(history.history[string])\n",
    "  plt.plot(history.history['val_'+string])\n",
    "  plt.xlabel(\"Epochs\")\n",
    "  plt.ylabel(string)\n",
    "  plt.legend([string, 'val_'+string])\n",
    "  plt.show()"
   ]
  },
  {
   "cell_type": "code",
   "execution_count": 14,
   "metadata": {},
   "outputs": [
    {
     "data": {
      "image/png": "[encoded data removed]",
      "text/plain": [
       "<Figure size 432x288 with 1 Axes>"
      ]
     },
     "metadata": {
      "needs_background": "light"
     },
     "output_type": "display_data"
    }
   ],
   "source": [
    "plot_graphs(history, 'accuracy')"
   ]
  },
  {
   "cell_type": "code",
   "execution_count": 15,
   "metadata": {},
   "outputs": [
    {
     "data": {
      "image/png": "[encoded data removed]",
      "text/plain": [
       "<Figure size 432x288 with 1 Axes>"
      ]
     },
     "metadata": {
      "needs_background": "light"
     },
     "output_type": "display_data"
    }
   ],
   "source": [
    "plot_graphs(history, 'loss')"
   ]
  },
  {
   "cell_type": "markdown",
   "metadata": {},
   "source": [
    "## Load imdb_reviews"
   ]
  },
  {
   "cell_type": "markdown",
   "metadata": {},
   "source": [
    "## Only Flatten"
   ]
  },
  {
   "cell_type": "code",
   "execution_count": 16,
   "metadata": {},
   "outputs": [],
   "source": [
    "imdb, info = tfds.load(\"imdb_reviews\",with_info=True,as_supervised=True)"
   ]
  },
  {
   "cell_type": "code",
   "execution_count": 19,
   "metadata": {},
   "outputs": [],
   "source": [
    "train_data , test_data = imdb['train'], imdb['test']\n",
    "\n",
    "training_sentences = []\n",
    "training_labels = []\n",
    "\n",
    "testing_sentences = []\n",
    "testing_labels = []\n",
    "\n",
    "for s, l in train_data:\n",
    "    training_sentences.append(s.numpy().decode('utf8'))\n",
    "    training_labels.append(l)\n",
    "    \n",
    "for s, l in test_data:\n",
    "    testing_sentences.append(s.numpy().decode('utf8'))\n",
    "    testing_labels.append(l)\n",
    "    \n",
    "training_labels_final  = np.array(training_labels)\n",
    "testing_labels_final = np.array(testing_labels)\n"
   ]
  },
  {
   "cell_type": "code",
   "execution_count": 20,
   "metadata": {},
   "outputs": [],
   "source": [
    "vocab_size = 10000\n",
    "embedding_dim = 16\n",
    "max_length = 120\n",
    "trunc_type='post'\n",
    "oov_tok=\"<OOV>\"\n",
    "\n",
    "from tensorflow.keras.preprocessing.text import Tokenizer\n",
    "from tensorflow.keras.preprocessing.sequence import pad_sequences\n",
    "\n",
    "\n",
    "tokenizer = Tokenizer(num_words = vocab_size, oov_token = oov_tok)\n",
    "tokenizer.fit_on_texts(training_sentences)\n",
    "word_index = tokenizer.word_index\n",
    "sequences = tokenizer.texts_to_sequences(training_sentences)\n",
    "padded = pad_sequences(sequences, maxlen=max_length, truncating=trunc_type)\n",
    "\n",
    "\n",
    "testing_sequences = tokenizer.texts_to_sequences(testing_sentences)\n",
    "testing_padded = pad_sequences(testing_sequences, maxlen=max_length)\n"
   ]
  },
  {
   "cell_type": "code",
   "execution_count": 21,
   "metadata": {},
   "outputs": [
    {
     "name": "stdout",
     "output_type": "stream",
     "text": [
      "? ? ? ? ? ? ? ? ? ? ? ? ? ? ? ? ? ? ? ? ? ? ? ? ? ? ? ? ? ? ? ? ? ? ? ? ? ? ? as others have mentioned all the women that go nude in this film are mostly absolutely gorgeous the plot very <OOV> shows the <OOV> of the female <OOV> when men are around they want to be pursued but when no men are around they become the <OOV> of a 14 year old boy and the boy becomes a man really fast we should all be so lucky at this age he then gets up the courage to pursue his true love\n",
      "------------------------------------------------------------\n",
      "As others have mentioned, all the women that go nude in this film are mostly absolutely gorgeous. The plot very ably shows the hypocrisy of the female libido. When men are around they want to be pursued, but when no \"men\" are around, they become the pursuers of a 14 year old boy. And the boy becomes a man really fast (we should all be so lucky at this age!). He then gets up the courage to pursue his true love.\n"
     ]
    }
   ],
   "source": [
    "# Create a reverse index to ease of lookup\n",
    "reverse_word_index = dict([(value,key) for (key, value ) in word_index.items()])\n",
    "\n",
    "# function that does the lookup and joins the words into a sentence\n",
    "def decode_review(text):\n",
    "    return ' '.join([reverse_word_index.get(word,'?') for word in text])\n",
    "\n",
    "# Compare both\n",
    "print(decode_review(padded[4]))\n",
    "print(''.join(['-' for i in range(60)])) # Seperator\n",
    "print(training_sentences[4])"
   ]
  },
  {
   "cell_type": "code",
   "execution_count": 22,
   "metadata": {},
   "outputs": [
    {
     "name": "stdout",
     "output_type": "stream",
     "text": [
      "Model: \"sequential_3\"\n",
      "_________________________________________________________________\n",
      "Layer (type)                 Output Shape              Param #   \n",
      "=================================================================\n",
      "embedding_3 (Embedding)      (None, 120, 16)           160000    \n",
      "_________________________________________________________________\n",
      "flatten (Flatten)            (None, 1920)              0         \n",
      "_________________________________________________________________\n",
      "dense_6 (Dense)              (None, 6)                 11526     \n",
      "_________________________________________________________________\n",
      "dense_7 (Dense)              (None, 1)                 7         \n",
      "=================================================================\n",
      "Total params: 171,533\n",
      "Trainable params: 171,533\n",
      "Non-trainable params: 0\n",
      "_________________________________________________________________\n"
     ]
    }
   ],
   "source": [
    "model = tf.keras.Sequential([\n",
    "    tf.keras.layers.Embedding(vocab_size, embedding_dim, input_length=max_length),\n",
    "    tf.keras.layers.Flatten(),\n",
    "    tf.keras.layers.Dense(6, activation='relu'),\n",
    "    tf.keras.layers.Dense(1, activation='sigmoid')\n",
    "])\n",
    "\n",
    "model.compile(loss='binary_crossentropy',\n",
    "              optimizer='adam',\n",
    "             metrics=['accuracy'])\n",
    "model.summary()"
   ]
  },
  {
   "cell_type": "code",
   "execution_count": 23,
   "metadata": {},
   "outputs": [
    {
     "name": "stdout",
     "output_type": "stream",
     "text": [
      "Epoch 1/10\n",
      "782/782 [==============================] - 21s 27ms/step - loss: 0.4927 - accuracy: 0.7410 - val_loss: 0.3494 - val_accuracy: 0.8471\n",
      "Epoch 2/10\n",
      "782/782 [==============================] - 23s 29ms/step - loss: 0.2409 - accuracy: 0.9054 - val_loss: 0.3657 - val_accuracy: 0.8412\n",
      "Epoch 3/10\n",
      "782/782 [==============================] - 26s 33ms/step - loss: 0.0968 - accuracy: 0.9739 - val_loss: 0.4608 - val_accuracy: 0.8246\n",
      "Epoch 4/10\n",
      "782/782 [==============================] - 22s 28ms/step - loss: 0.0231 - accuracy: 0.9969 - val_loss: 0.5326 - val_accuracy: 0.8285\n",
      "Epoch 5/10\n",
      "782/782 [==============================] - 19s 24ms/step - loss: 0.0056 - accuracy: 0.9996 - val_loss: 0.5945 - val_accuracy: 0.8293\n",
      "Epoch 6/10\n",
      "782/782 [==============================] - 21s 27ms/step - loss: 0.0021 - accuracy: 0.9999 - val_loss: 0.6449 - val_accuracy: 0.8300\n",
      "Epoch 7/10\n",
      "782/782 [==============================] - 26s 33ms/step - loss: 8.6543e-04 - accuracy: 1.0000 - val_loss: 0.6868 - val_accuracy: 0.8312\n",
      "Epoch 8/10\n",
      "782/782 [==============================] - 19s 24ms/step - loss: 4.8380e-04 - accuracy: 1.0000 - val_loss: 0.7292 - val_accuracy: 0.8306\n",
      "Epoch 9/10\n",
      "782/782 [==============================] - 23s 29ms/step - loss: 2.7413e-04 - accuracy: 1.0000 - val_loss: 0.7658 - val_accuracy: 0.8309\n",
      "Epoch 10/10\n",
      "782/782 [==============================] - 21s 27ms/step - loss: 1.6436e-04 - accuracy: 1.0000 - val_loss: 0.8031 - val_accuracy: 0.8308\n"
     ]
    }
   ],
   "source": [
    "num_epochs = 10\n",
    "history = model.fit(padded, \n",
    "          training_labels_final, \n",
    "          epochs=num_epochs,\n",
    "          validation_data=(testing_padded,testing_labels_final)\n",
    "         )"
   ]
  },
  {
   "cell_type": "code",
   "execution_count": 26,
   "metadata": {},
   "outputs": [
    {
     "data": {
      "image/png": "[encoded data removed]",
      "text/plain": [
       "<Figure size 720x432 with 2 Axes>"
      ]
     },
     "metadata": {
      "needs_background": "light"
     },
     "output_type": "display_data"
    }
   ],
   "source": [
    "plot_model(history, num_epochs)"
   ]
  },
  {
   "cell_type": "markdown",
   "metadata": {},
   "source": [
    "## GRU"
   ]
  },
  {
   "cell_type": "code",
   "execution_count": 28,
   "metadata": {},
   "outputs": [
    {
     "name": "stdout",
     "output_type": "stream",
     "text": [
      "Model: \"sequential_5\"\n",
      "_________________________________________________________________\n",
      "Layer (type)                 Output Shape              Param #   \n",
      "=================================================================\n",
      "embedding_5 (Embedding)      (None, 120, 16)           160000    \n",
      "_________________________________________________________________\n",
      "gru_1 (GRU)                  (None, 32)                4800      \n",
      "_________________________________________________________________\n",
      "dense_10 (Dense)             (None, 6)                 198       \n",
      "_________________________________________________________________\n",
      "dense_11 (Dense)             (None, 1)                 7         \n",
      "=================================================================\n",
      "Total params: 165,005\n",
      "Trainable params: 165,005\n",
      "Non-trainable params: 0\n",
      "_________________________________________________________________\n"
     ]
    }
   ],
   "source": [
    "model = tf.keras.Sequential([\n",
    "    tf.keras.layers.Embedding(vocab_size, embedding_dim, input_length=max_length),\n",
    "    tf.keras.layers.GRU(32),\n",
    "    tf.keras.layers.Dense(6, activation='relu'),\n",
    "    tf.keras.layers.Dense(1, activation='sigmoid')\n",
    "])\n",
    "\n",
    "model.compile(loss='binary_crossentropy',\n",
    "              optimizer='adam',\n",
    "             metrics=['accuracy'])\n",
    "model.summary()"
   ]
  },
  {
   "cell_type": "code",
   "execution_count": 29,
   "metadata": {},
   "outputs": [
    {
     "name": "stdout",
     "output_type": "stream",
     "text": [
      "Epoch 1/10\n",
      "782/782 [==============================] - 129s 165ms/step - loss: 0.5191 - accuracy: 0.7230 - val_loss: 0.3684 - val_accuracy: 0.8367\n",
      "Epoch 2/10\n",
      "782/782 [==============================] - 130s 166ms/step - loss: 0.3124 - accuracy: 0.8749 - val_loss: 0.3580 - val_accuracy: 0.8494\n",
      "Epoch 3/10\n",
      "782/782 [==============================] - 132s 168ms/step - loss: 0.2474 - accuracy: 0.9063 - val_loss: 0.3782 - val_accuracy: 0.8373\n",
      "Epoch 4/10\n",
      "782/782 [==============================] - 110s 141ms/step - loss: 0.2073 - accuracy: 0.9234 - val_loss: 0.3757 - val_accuracy: 0.8442\n",
      "Epoch 5/10\n",
      "782/782 [==============================] - 132s 168ms/step - loss: 0.1658 - accuracy: 0.9423 - val_loss: 0.4444 - val_accuracy: 0.8382\n",
      "Epoch 6/10\n",
      "782/782 [==============================] - 125s 160ms/step - loss: 0.1331 - accuracy: 0.9554 - val_loss: 0.5129 - val_accuracy: 0.8301\n",
      "Epoch 7/10\n",
      "782/782 [==============================] - 132s 169ms/step - loss: 0.1084 - accuracy: 0.9646 - val_loss: 0.5216 - val_accuracy: 0.8225\n",
      "Epoch 8/10\n",
      "782/782 [==============================] - 141s 180ms/step - loss: 0.0870 - accuracy: 0.9721 - val_loss: 0.5478 - val_accuracy: 0.8231\n",
      "Epoch 9/10\n",
      "782/782 [==============================] - 139s 178ms/step - loss: 0.0681 - accuracy: 0.9790 - val_loss: 0.6651 - val_accuracy: 0.8198\n",
      "Epoch 10/10\n",
      "782/782 [==============================] - 122s 156ms/step - loss: 0.0570 - accuracy: 0.9829 - val_loss: 0.7251 - val_accuracy: 0.8177\n"
     ]
    }
   ],
   "source": [
    "num_epochs = 10\n",
    "history = model.fit(padded, \n",
    "          training_labels_final, \n",
    "          epochs=num_epochs,\n",
    "          validation_data=(testing_padded,testing_labels_final)\n",
    "         )"
   ]
  },
  {
   "cell_type": "code",
   "execution_count": 30,
   "metadata": {},
   "outputs": [
    {
     "data": {
      "image/png": "[encoded data removed]",
      "text/plain": [
       "<Figure size 720x432 with 2 Axes>"
      ]
     },
     "metadata": {
      "needs_background": "light"
     },
     "output_type": "display_data"
    }
   ],
   "source": [
    "plot_model(history, num_epochs)"
   ]
  },
  {
   "cell_type": "markdown",
   "metadata": {},
   "source": [
    "## LSTM"
   ]
  },
  {
   "cell_type": "code",
   "execution_count": 31,
   "metadata": {},
   "outputs": [
    {
     "name": "stdout",
     "output_type": "stream",
     "text": [
      "Model: \"sequential_6\"\n",
      "_________________________________________________________________\n",
      "Layer (type)                 Output Shape              Param #   \n",
      "=================================================================\n",
      "embedding_6 (Embedding)      (None, 120, 16)           160000    \n",
      "_________________________________________________________________\n",
      "gru_2 (GRU)                  (None, 32)                4800      \n",
      "_________________________________________________________________\n",
      "dense_12 (Dense)             (None, 6)                 198       \n",
      "_________________________________________________________________\n",
      "dense_13 (Dense)             (None, 1)                 7         \n",
      "=================================================================\n",
      "Total params: 165,005\n",
      "Trainable params: 165,005\n",
      "Non-trainable params: 0\n",
      "_________________________________________________________________\n"
     ]
    }
   ],
   "source": [
    "model = tf.keras.Sequential([\n",
    "    tf.keras.layers.Embedding(vocab_size, embedding_dim, input_length=max_length),\n",
    "    tf.keras.layers.GRU(32),\n",
    "    tf.keras.layers.Dense(6, activation='relu'),\n",
    "    tf.keras.layers.Dense(1, activation='sigmoid')\n",
    "])\n",
    "\n",
    "model.compile(loss='binary_crossentropy',\n",
    "              optimizer='adam',\n",
    "             metrics=['accuracy'])\n",
    "model.summary()"
   ]
  },
  {
   "cell_type": "code",
   "execution_count": 32,
   "metadata": {},
   "outputs": [
    {
     "name": "stdout",
     "output_type": "stream",
     "text": [
      "Epoch 1/10\n",
      "782/782 [==============================] - 132s 169ms/step - loss: 0.5009 - accuracy: 0.7315 - val_loss: 0.3573 - val_accuracy: 0.8443\n",
      "Epoch 2/10\n",
      "782/782 [==============================] - 93s 119ms/step - loss: 0.3060 - accuracy: 0.8768 - val_loss: 0.3611 - val_accuracy: 0.8472\n",
      "Epoch 3/10\n",
      "782/782 [==============================] - 86s 110ms/step - loss: 0.2452 - accuracy: 0.9072 - val_loss: 0.4176 - val_accuracy: 0.8322\n",
      "Epoch 4/10\n",
      "782/782 [==============================] - 87s 111ms/step - loss: 0.2087 - accuracy: 0.9212 - val_loss: 0.3785 - val_accuracy: 0.8402\n",
      "Epoch 5/10\n",
      "782/782 [==============================] - 89s 113ms/step - loss: 0.1727 - accuracy: 0.9382 - val_loss: 0.4260 - val_accuracy: 0.8375\n",
      "Epoch 6/10\n",
      "782/782 [==============================] - 99s 127ms/step - loss: 0.1303 - accuracy: 0.9563 - val_loss: 0.5162 - val_accuracy: 0.8325\n",
      "Epoch 7/10\n",
      "782/782 [==============================] - 80s 102ms/step - loss: 0.1022 - accuracy: 0.9653 - val_loss: 0.5712 - val_accuracy: 0.8284\n",
      "Epoch 8/10\n",
      "782/782 [==============================] - 76s 97ms/step - loss: 0.0689 - accuracy: 0.9785 - val_loss: 0.6752 - val_accuracy: 0.8228\n",
      "Epoch 9/10\n",
      "782/782 [==============================] - 80s 103ms/step - loss: 0.0580 - accuracy: 0.9815 - val_loss: 0.7392 - val_accuracy: 0.8169\n",
      "Epoch 10/10\n",
      "782/782 [==============================] - 85s 109ms/step - loss: 0.0421 - accuracy: 0.9874 - val_loss: 0.8049 - val_accuracy: 0.8219\n"
     ]
    }
   ],
   "source": [
    "num_epochs = 10\n",
    "history = model.fit(padded, \n",
    "          training_labels_final, \n",
    "          epochs=num_epochs,\n",
    "          validation_data=(testing_padded,testing_labels_final)\n",
    "         )"
   ]
  },
  {
   "cell_type": "code",
   "execution_count": 33,
   "metadata": {},
   "outputs": [
    {
     "data": {
      "image/png": "[encoded data removed]",
      "text/plain": [
       "<Figure size 720x432 with 2 Axes>"
      ]
     },
     "metadata": {
      "needs_background": "light"
     },
     "output_type": "display_data"
    }
   ],
   "source": [
    "plot_model(history, num_epochs)"
   ]
  },
  {
   "cell_type": "markdown",
   "metadata": {},
   "source": [
    "## Bi-directional GRU"
   ]
  },
  {
   "cell_type": "code",
   "execution_count": 34,
   "metadata": {},
   "outputs": [
    {
     "name": "stdout",
     "output_type": "stream",
     "text": [
      "Model: \"sequential_7\"\n",
      "_________________________________________________________________\n",
      "Layer (type)                 Output Shape              Param #   \n",
      "=================================================================\n",
      "embedding_7 (Embedding)      (None, 120, 16)           160000    \n",
      "_________________________________________________________________\n",
      "bidirectional (Bidirectional (None, 64)                9600      \n",
      "_________________________________________________________________\n",
      "dense_14 (Dense)             (None, 6)                 390       \n",
      "_________________________________________________________________\n",
      "dense_15 (Dense)             (None, 1)                 7         \n",
      "=================================================================\n",
      "Total params: 169,997\n",
      "Trainable params: 169,997\n",
      "Non-trainable params: 0\n",
      "_________________________________________________________________\n"
     ]
    }
   ],
   "source": [
    "model = tf.keras.Sequential([\n",
    "    tf.keras.layers.Embedding(vocab_size, embedding_dim, input_length=max_length),\n",
    "    tf.keras.layers.Bidirectional(tf.keras.layers.GRU(32)),\n",
    "    tf.keras.layers.Dense(6, activation='relu'),\n",
    "    tf.keras.layers.Dense(1, activation='sigmoid')\n",
    "])\n",
    "\n",
    "model.compile(loss='binary_crossentropy',\n",
    "              optimizer='adam',\n",
    "             metrics=['accuracy'])\n",
    "model.summary()"
   ]
  },
  {
   "cell_type": "code",
   "execution_count": null,
   "metadata": {},
   "outputs": [
    {
     "name": "stdout",
     "output_type": "stream",
     "text": [
      "Epoch 1/10\n",
      "782/782 [==============================] - 137s 175ms/step - loss: 0.4920 - accuracy: 0.7331 - val_loss: 0.3413 - val_accuracy: 0.8514\n",
      "Epoch 2/10\n",
      "782/782 [==============================] - 140s 179ms/step - loss: 0.2908 - accuracy: 0.8811 - val_loss: 0.3457 - val_accuracy: 0.8489\n",
      "Epoch 3/10\n",
      "782/782 [==============================] - 138s 176ms/step - loss: 0.2294 - accuracy: 0.9117 - val_loss: 0.3687 - val_accuracy: 0.8397\n",
      "Epoch 4/10\n",
      "782/782 [==============================] - 171s 219ms/step - loss: 0.1806 - accuracy: 0.9324 - val_loss: 0.4318 - val_accuracy: 0.8373\n",
      "Epoch 5/10\n",
      "782/782 [==============================] - 157s 201ms/step - loss: 0.1339 - accuracy: 0.9521 - val_loss: 0.4868 - val_accuracy: 0.8238\n",
      "Epoch 6/10\n",
      "782/782 [==============================] - 143s 183ms/step - loss: 0.0901 - accuracy: 0.9690 - val_loss: 0.6076 - val_accuracy: 0.8180\n",
      "Epoch 7/10\n",
      "782/782 [==============================] - 131s 167ms/step - loss: 0.0589 - accuracy: 0.9802 - val_loss: 0.6827 - val_accuracy: 0.8199\n",
      "Epoch 8/10\n",
      "782/782 [==============================] - 133s 171ms/step - loss: 0.0390 - accuracy: 0.9871 - val_loss: 0.7544 - val_accuracy: 0.8176\n",
      "Epoch 9/10\n",
      "634/782 [=======================>......] - ETA: 29s - loss: 0.0238 - accuracy: 0.9922"
     ]
    }
   ],
   "source": [
    "num_epochs = 10\n",
    "history = model.fit(padded, \n",
    "          training_labels_final, \n",
    "          epochs=num_epochs,\n",
    "          validation_data=(testing_padded,testing_labels_final)\n",
    "         )"
   ]
  },
  {
   "cell_type": "code",
   "execution_count": null,
   "metadata": {},
   "outputs": [],
   "source": [
    "plot_model(history, num_epochs)"
   ]
  },
  {
   "cell_type": "markdown",
   "metadata": {},
   "source": [
    "## Bi-directional LSTM"
   ]
  },
  {
   "cell_type": "code",
   "execution_count": null,
   "metadata": {},
   "outputs": [],
   "source": [
    "model = tf.keras.Sequential([\n",
    "    tf.keras.layers.Embedding(vocab_size, embedding_dim, input_length=max_length),\n",
    "    tf.keras.layers.Bidirectional(tf.keras.layers.LSTM(32)),\n",
    "    tf.keras.layers.Dense(6, activation='relu'),\n",
    "    tf.keras.layers.Dense(1, activation='sigmoid')\n",
    "])\n",
    "\n",
    "model.compile(loss='binary_crossentropy',\n",
    "              optimizer='adam',\n",
    "             metrics=['accuracy'])\n",
    "model.summary()"
   ]
  },
  {
   "cell_type": "code",
   "execution_count": null,
   "metadata": {},
   "outputs": [],
   "source": [
    "num_epochs = 10\n",
    "history = model.fit(padded, \n",
    "          training_labels_final, \n",
    "          epochs=num_epochs,\n",
    "          validation_data=(testing_padded,testing_labels_final)\n",
    "         )"
   ]
  },
  {
   "cell_type": "code",
   "execution_count": null,
   "metadata": {},
   "outputs": [],
   "source": [
    "plot_model(history, num_epochs)"
   ]
  },
  {
   "cell_type": "markdown",
   "metadata": {},
   "source": [
    "## Conv-1d"
   ]
  },
  {
   "cell_type": "code",
   "execution_count": null,
   "metadata": {},
   "outputs": [],
   "source": [
    "model = tf.keras.Sequential([\n",
    "    tf.keras.layers.Embedding(vocab_size, embedding_dim, input_length=max_length),\n",
    "    tf.keras.layers.Conv1d(128,5,activation='relu'),\n",
    "    tf.keras.layers.GlobalAveragePooling1D(),\n",
    "    tf.keras.layers.Dense(6, activation='relu'),\n",
    "    tf.keras.layers.Dense(1, activation='sigmoid')\n",
    "])\n",
    "\n",
    "model.compile(loss='binary_crossentropy',\n",
    "              optimizer='adam',\n",
    "             metrics=['accuracy'])\n",
    "model.summary()"
   ]
  },
  {
   "cell_type": "code",
   "execution_count": null,
   "metadata": {},
   "outputs": [],
   "source": [
    "num_epochs = 10\n",
    "history = model.fit(padded, \n",
    "          training_labels_final, \n",
    "          epochs=num_epochs,\n",
    "          validation_data=(testing_padded,testing_labels_final)\n",
    "         )"
   ]
  },
  {
   "cell_type": "code",
   "execution_count": null,
   "metadata": {},
   "outputs": [],
   "source": [
    "plot_model(history, num_epochs)"
   ]
  }
 ],
 "metadata": {
  "kernelspec": {
   "display_name": "Python 3",
   "language": "python",
   "name": "python3"
  },
  "language_info": {
   "codemirror_mode": {
    "name": "ipython",
    "version": 3
   },
   "file_extension": ".py",
   "mimetype": "text/x-python",
   "name": "python",
   "nbconvert_exporter": "python",
   "pygments_lexer": "ipython3",
   "version": "3.8.3"
  }
 },
 "nbformat": 4,
 "nbformat_minor": 4
}
